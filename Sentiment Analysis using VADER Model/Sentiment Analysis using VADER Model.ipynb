{
 "cells": [
  {
   "cell_type": "code",
   "execution_count": 1,
   "metadata": {},
   "outputs": [
    {
     "name": "stderr",
     "output_type": "stream",
     "text": [
      "C:\\Users\\Subhadeep\\Anaconda3\\lib\\site-packages\\nltk\\twitter\\__init__.py:20: UserWarning: The twython library has not been installed. Some functionality from the twitter package will not be available.\n",
      "  warnings.warn(\"The twython library has not been installed. \"\n"
     ]
    }
   ],
   "source": [
    "import re\n",
    "\n",
    "import nltk\n",
    "\n",
    "import pickle\n",
    "\n",
    "import pprint\n",
    "pp = pprint.PrettyPrinter(width=120, compact=True)\n",
    "\n",
    "import numpy as np\n",
    "\n",
    "import pandas as pd\n",
    "\n",
    "from zipfile import ZipFile \n",
    "\n",
    "from nltk.corpus import stopwords\n",
    "\n",
    "from nltk.stem import PorterStemmer\n",
    "\n",
    "from nltk.sentiment.vader import SentimentIntensityAnalyzer"
   ]
  },
  {
   "cell_type": "code",
   "execution_count": 2,
   "metadata": {},
   "outputs": [
    {
     "name": "stdout",
     "output_type": "stream",
     "text": [
      "File Name                                             Modified             Size\n",
      "elon_tweets.txt                                2018-11-30 01:46:26       292123\n",
      "Extracting all the files now...\n",
      "Done!\n"
     ]
    }
   ],
   "source": [
    "file_name = \"elon_tweets.zip\"\n",
    "\n",
    "# opening the zip file in READ mode \n",
    "with ZipFile(file_name, 'r') as zip: \n",
    "    # printing all the contents of the zip file \n",
    "    zip.printdir() \n",
    "  \n",
    "    # extracting all the files \n",
    "    print('Extracting all the files now...') \n",
    "    zip.extractall() \n",
    "    print('Done!') \n"
   ]
  },
  {
   "cell_type": "code",
   "execution_count": 3,
   "metadata": {},
   "outputs": [
    {
     "name": "stdout",
     "output_type": "stream",
     "text": [
      "The Length of the file :2819\n"
     ]
    }
   ],
   "source": [
    "#Loading The Dataset into the List\n",
    "list_tweets = []\n",
    "for line in open('elon_tweets.txt', 'r'):\n",
    "    list_tweets.append(line.strip())\n",
    "\n",
    "print(\"The Length of the file :{}\".format(len(list_tweets)))"
   ]
  },
  {
   "cell_type": "code",
   "execution_count": 4,
   "metadata": {},
   "outputs": [
    {
     "name": "stdout",
     "output_type": "stream",
     "text": [
      "b'And so the robots spared humanity ... https://t.co/v7JUJQWfCv' \n",
      "\n",
      "\"b\"\"@ForIn2020 @waltmossberg @mims @defcon_5 Exactly. Tesla is absurdly overvalued if based on the past, but that's irr\\xe2\\x80\\xa6 https://t.co/qQcTqkzgMl\"\"\" \n",
      "\n",
      "\"b'@waltmossberg @mims @defcon_5 Et tu, Walt?'\" \n",
      "\n",
      "b'Stormy weather in Shortville ...' \n",
      "\n",
      "\"b\"\"@DaveLeeBBC @verge Coal is dying due to nat gas fracking. It's basically dead.\"\"\" \n",
      "\n",
      "\"b\"\"@Lexxxzis It's just a helicopter in helicopter's clothing\"\"\" \n",
      "\n",
      "\"b\"\"@verge It won't matter\"\"\" \n",
      "\n",
      "b'@SuperCoolCube Pretty good' \n",
      "\n",
      "\"b\"\"Why did we waste so much time developing silly rockets? Damn you, aliens! So obtuse! You have all this crazy tech, but can't speak English!?\"\"\" \n",
      "\n",
      "b'Technology breakthrough: turns out chemtrails are actually a message from time-traveling aliens describing the secret of teleportation' \n",
      "\n"
     ]
    }
   ],
   "source": [
    "#Loading First 10 lines of the dataset\n",
    "for i in range(0, 10):\n",
    "    print(list_tweets[i],'\\n')"
   ]
  },
  {
   "cell_type": "markdown",
   "metadata": {},
   "source": [
    "# Cleaning the dataset"
   ]
  },
  {
   "cell_type": "code",
   "execution_count": 5,
   "metadata": {},
   "outputs": [],
   "source": [
    "reviews = []\n",
    "for tweet in list_tweets:\n",
    "    #Removing all the hyper links\n",
    "    # ^ means from start and $ means from last\n",
    "     #Lower Casing\n",
    "    tweet = tweet.lower()\n",
    "    #Removing Http links\n",
    "    tweet = re.sub(r\"^https://t.co/[a-zA-Z0-9]*\\s\", \" \", tweet)\n",
    "    tweet = re.sub(r\"\\s+https://t.co/[a-zA-Z0-9]*\\s\", \" \", tweet)\n",
    "    tweet = re.sub(r\"\\s+https://t.co/[a-zA-Z0-9]*$\", \" \", tweet)\n",
    "    #Puntuation\n",
    "    tweet = re.sub(r\"\\W\",\" \",tweet)\n",
    "    #numbers\n",
    "    tweet = re.sub(r\"\\d\",\" \",tweet)\n",
    "    #Single alphabets \n",
    "    # ^ means from start and $ means from last\n",
    "    tweet = re.sub(r\"\\s+[a-z]\\s+\",\" \",tweet)\n",
    "    tweet = re.sub(r\"\\s+[a-z]$\",\" \",tweet)\n",
    "    tweet = re.sub(r\"^[a-z]\\s+\",\" \",tweet)\n",
    "    #Removing Extra useless data\n",
    "    tweet = re.sub(r\"http\", \"\", tweet)\n",
    "    tweet = re.sub(r\"co\", \"\", tweet)\n",
    "    #Vaccent Spaces\n",
    "    tweet = re.sub(r\"\\s+\",\" \",tweet)\n",
    "    tweet = re.sub(r\"^\\s+\",\" \",tweet)\n",
    "    tweet = re.sub(r\"\\s+$\",\" \",tweet)\n",
    "    #Replacing Contraction with full words\n",
    "    tweet = re.sub(r\"that's\",\"that is\",tweet)\n",
    "    tweet = re.sub(r\"there's\",\"there is\",tweet)\n",
    "    tweet = re.sub(r\"what's\",\"what is\",tweet)\n",
    "    tweet = re.sub(r\"where's\",\"where is\",tweet)\n",
    "    tweet = re.sub(r\"it's\",\"it is\",tweet)\n",
    "    tweet = re.sub(r\"who's\",\"who is\",tweet)\n",
    "    tweet = re.sub(r\"i'm\",\"i am\",tweet)\n",
    "    tweet = re.sub(r\"she's\",\"she is\",tweet)\n",
    "    tweet = re.sub(r\"he's\",\"he is\",tweet)\n",
    "    tweet = re.sub(r\"they're\",\"they are\",tweet)\n",
    "    tweet = re.sub(r\"who're\",\"who are\",tweet)\n",
    "    tweet = re.sub(r\"ain't\",\"am not\",tweet)\n",
    "    tweet = re.sub(r\"wouldn't\",\"would not\",tweet)\n",
    "    tweet = re.sub(r\"shouldn't\",\"should not\",tweet)\n",
    "    tweet = re.sub(r\"can't\",\"can not\",tweet)\n",
    "    tweet = re.sub(r\"couldn't\",\"could not\",tweet)\n",
    "    tweet = re.sub(r\"won't\",\"will not\",tweet)\n",
    "    reviews.append(tweet)"
   ]
  },
  {
   "cell_type": "code",
   "execution_count": 6,
   "metadata": {},
   "outputs": [],
   "source": [
    "ps = PorterStemmer()\n",
    "reviews = [ps.stem(word) for word in reviews]"
   ]
  },
  {
   "cell_type": "code",
   "execution_count": 7,
   "metadata": {},
   "outputs": [
    {
     "name": "stdout",
     "output_type": "stream",
     "text": [
      "' and so the robots spared humanity s jujqwfcv '\n",
      "\n",
      "(' forin waltmossberg mims defn_ exactly tesla is absurdly overvalued if based on the past but that irr xe xa s '\n",
      " 'qqctqkzgml ')\n",
      "\n",
      "' waltmossberg mims defn_ et tu walt '\n",
      "\n",
      "' stormy weather in shortville '\n",
      "\n",
      "' daveleebbc verge al is dying due to nat gas fracking it basically dead '\n",
      "\n",
      "' lexxxzis it just helipter in helipter clothing '\n",
      "\n",
      "' verge it won matter '\n",
      "\n",
      "' superolcube pretty good '\n",
      "\n",
      "(' why did we waste so much time developing silly rockets damn you aliens so obtuse you have all this crazy tech but '\n",
      " 'can speak english ')\n",
      "\n",
      "(' technology breakthrough turns out chemtrails are actually message from time traveling aliens describing the secret '\n",
      " 'of teleportation ')\n",
      "\n"
     ]
    }
   ],
   "source": [
    "#Loading First 10 lines of the dataset\n",
    "for i in range(0, 10):\n",
    "    pp.pprint(reviews[i])\n",
    "    print()"
   ]
  },
  {
   "cell_type": "code",
   "execution_count": 8,
   "metadata": {},
   "outputs": [
    {
     "name": "stdout",
     "output_type": "stream",
     "text": [
      "                                             Reviwes\n",
      "0      and so the robots spared humanity s jujqwfcv \n",
      "1   forin waltmossberg mims defn_ exactly tesla i...\n",
      "2                waltmossberg mims defn_ et tu walt \n",
      "3                      stormy weather in shortville \n",
      "4   daveleebbc verge al is dying due to nat gas f...\n",
      "5    lexxxzis it just helipter in helipter clothing \n",
      "6                               verge it won matter \n",
      "7                           superolcube pretty good \n",
      "8   why did we waste so much time developing sill...\n",
      "9   technology breakthrough turns out chemtrails ... \n",
      "\n",
      "2819 \n",
      "\n",
      "                                                Reviwes\n",
      "2809   his singing and acting talent will be sorely ...\n",
      "2810   why does the crowd cry over the glorious lead...\n",
      "2811   sam harris also wrote nice piece on the aweso...\n",
      "2812   read lying the new book by my friend sam harr...\n",
      "2813   am reading great biography of ben franklin by...\n",
      "2814                   that was total non sequitur btw \n",
      "2815   great voltaire quote arguably better than twa...\n",
      "2816   made the volume on the model wmcnt go to now ...\n",
      "2817   went to iceland on sat to ride bumper cars on...\n",
      "2818   please ignore prior tweets as that was someon...\n"
     ]
    }
   ],
   "source": [
    "#Converting the data to pandas dataframe\n",
    "dataset = pd.DataFrame({'Reviwes':reviews})\n",
    "print (dataset.head(10),'\\n')\n",
    "print(dataset.shape[0],'\\n')\n",
    "print(dataset.tail(10))"
   ]
  },
  {
   "cell_type": "code",
   "execution_count": 9,
   "metadata": {},
   "outputs": [
    {
     "data": {
      "text/plain": [
       "Reviwes    0\n",
       "dtype: int64"
      ]
     },
     "execution_count": 9,
     "metadata": {},
     "output_type": "execute_result"
    }
   ],
   "source": [
    "#Droping the Null value coloum\n",
    "dataset.isnull().sum()\n",
    "#dataset.dropna(inplace=True)"
   ]
  },
  {
   "cell_type": "code",
   "execution_count": 10,
   "metadata": {},
   "outputs": [
    {
     "name": "stdout",
     "output_type": "stream",
     "text": [
      "1\n",
      "Index location of Blanks:  [2799]\n"
     ]
    }
   ],
   "source": [
    "# Removing whitespace if any\n",
    "\n",
    "blank = [] # start with an empty list\n",
    "\n",
    "for i, rv in dataset.itertuples():    # iterating over the DataFrame\n",
    "    if type(rv) == str:               # avoid NaN values\n",
    "        if rv.isspace():              # test 'review' for whitespace\n",
    "            blank.append(i)           # add matching index numbers to the list\n",
    "\n",
    "print(len(blank))\n",
    "print('Index location of Blanks: ',blank)\n"
   ]
  },
  {
   "cell_type": "code",
   "execution_count": 11,
   "metadata": {},
   "outputs": [
    {
     "name": "stdout",
     "output_type": "stream",
     "text": [
      "2818\n"
     ]
    }
   ],
   "source": [
    "#Droping the blank index locations\n",
    "dataset.drop(blank, inplace=True, axis = 0)\n",
    "print(len(dataset))"
   ]
  },
  {
   "cell_type": "code",
   "execution_count": 12,
   "metadata": {},
   "outputs": [],
   "source": [
    "#Tf - IDF Modelling\n",
    "#tfidf = TfidfVectorizer(max_features = 450,\n",
    "#                        min_df = 10, \n",
    "#                        max_df = 0.9,\n",
    "#                        stop_words = stopwords.words('english'))\n",
    "#X = tfidf.fit_transform(X).toarray()\n",
    "#print(X.shape)"
   ]
  },
  {
   "cell_type": "markdown",
   "metadata": {},
   "source": [
    "VADER's `SentimentIntensityAnalyzer()` takes in a string and returns a dictionary of scores in each of four categories:\n",
    "* negative\n",
    "* neutral\n",
    "* positive\n",
    "* compound *(computed by normalizing the scores above)*"
   ]
  },
  {
   "cell_type": "markdown",
   "metadata": {},
   "source": [
    "# Testing VADER Model"
   ]
  },
  {
   "cell_type": "code",
   "execution_count": 13,
   "metadata": {},
   "outputs": [
    {
     "data": {
      "text/plain": [
       "{'neg': 0.0, 'neu': 0.408, 'pos': 0.592, 'compound': 0.4404}"
      ]
     },
     "execution_count": 13,
     "metadata": {},
     "output_type": "execute_result"
    }
   ],
   "source": [
    "sid = SentimentIntensityAnalyzer()\n",
    "sid.polarity_scores(dataset['Reviwes'][1154])"
   ]
  },
  {
   "cell_type": "code",
   "execution_count": 14,
   "metadata": {},
   "outputs": [
    {
     "name": "stdout",
     "output_type": "stream",
     "text": [
      " waltnew ol thanks \n"
     ]
    }
   ],
   "source": [
    "print(dataset['Reviwes'][1154])"
   ]
  },
  {
   "cell_type": "markdown",
   "metadata": {},
   "source": [
    "# Adding New coloum with VADER Output"
   ]
  },
  {
   "cell_type": "code",
   "execution_count": 15,
   "metadata": {},
   "outputs": [
    {
     "data": {
      "text/html": [
       "<div>\n",
       "<style scoped>\n",
       "    .dataframe tbody tr th:only-of-type {\n",
       "        vertical-align: middle;\n",
       "    }\n",
       "\n",
       "    .dataframe tbody tr th {\n",
       "        vertical-align: top;\n",
       "    }\n",
       "\n",
       "    .dataframe thead th {\n",
       "        text-align: right;\n",
       "    }\n",
       "</style>\n",
       "<table border=\"1\" class=\"dataframe\">\n",
       "  <thead>\n",
       "    <tr style=\"text-align: right;\">\n",
       "      <th></th>\n",
       "      <th>Reviwes</th>\n",
       "      <th>scores</th>\n",
       "    </tr>\n",
       "  </thead>\n",
       "  <tbody>\n",
       "    <tr>\n",
       "      <th>0</th>\n",
       "      <td>and so the robots spared humanity s jujqwfcv</td>\n",
       "      <td>{'neg': 0.0, 'neu': 1.0, 'pos': 0.0, 'compound...</td>\n",
       "    </tr>\n",
       "    <tr>\n",
       "      <th>1</th>\n",
       "      <td>forin waltmossberg mims defn_ exactly tesla i...</td>\n",
       "      <td>{'neg': 0.0, 'neu': 1.0, 'pos': 0.0, 'compound...</td>\n",
       "    </tr>\n",
       "    <tr>\n",
       "      <th>2</th>\n",
       "      <td>waltmossberg mims defn_ et tu walt</td>\n",
       "      <td>{'neg': 0.0, 'neu': 1.0, 'pos': 0.0, 'compound...</td>\n",
       "    </tr>\n",
       "    <tr>\n",
       "      <th>3</th>\n",
       "      <td>stormy weather in shortville</td>\n",
       "      <td>{'neg': 0.0, 'neu': 1.0, 'pos': 0.0, 'compound...</td>\n",
       "    </tr>\n",
       "    <tr>\n",
       "      <th>4</th>\n",
       "      <td>daveleebbc verge al is dying due to nat gas f...</td>\n",
       "      <td>{'neg': 0.264, 'neu': 0.736, 'pos': 0.0, 'comp...</td>\n",
       "    </tr>\n",
       "  </tbody>\n",
       "</table>\n",
       "</div>"
      ],
      "text/plain": [
       "                                             Reviwes  \\\n",
       "0      and so the robots spared humanity s jujqwfcv    \n",
       "1   forin waltmossberg mims defn_ exactly tesla i...   \n",
       "2                waltmossberg mims defn_ et tu walt    \n",
       "3                      stormy weather in shortville    \n",
       "4   daveleebbc verge al is dying due to nat gas f...   \n",
       "\n",
       "                                              scores  \n",
       "0  {'neg': 0.0, 'neu': 1.0, 'pos': 0.0, 'compound...  \n",
       "1  {'neg': 0.0, 'neu': 1.0, 'pos': 0.0, 'compound...  \n",
       "2  {'neg': 0.0, 'neu': 1.0, 'pos': 0.0, 'compound...  \n",
       "3  {'neg': 0.0, 'neu': 1.0, 'pos': 0.0, 'compound...  \n",
       "4  {'neg': 0.264, 'neu': 0.736, 'pos': 0.0, 'comp...  "
      ]
     },
     "execution_count": 15,
     "metadata": {},
     "output_type": "execute_result"
    }
   ],
   "source": [
    "dataset['scores'] = dataset['Reviwes'].apply(lambda Reviwes: sid.polarity_scores(Reviwes))\n",
    "\n",
    "dataset.head()"
   ]
  },
  {
   "cell_type": "code",
   "execution_count": 16,
   "metadata": {},
   "outputs": [
    {
     "data": {
      "text/html": [
       "<div>\n",
       "<style scoped>\n",
       "    .dataframe tbody tr th:only-of-type {\n",
       "        vertical-align: middle;\n",
       "    }\n",
       "\n",
       "    .dataframe tbody tr th {\n",
       "        vertical-align: top;\n",
       "    }\n",
       "\n",
       "    .dataframe thead th {\n",
       "        text-align: right;\n",
       "    }\n",
       "</style>\n",
       "<table border=\"1\" class=\"dataframe\">\n",
       "  <thead>\n",
       "    <tr style=\"text-align: right;\">\n",
       "      <th></th>\n",
       "      <th>Reviwes</th>\n",
       "      <th>scores</th>\n",
       "      <th>compound</th>\n",
       "    </tr>\n",
       "  </thead>\n",
       "  <tbody>\n",
       "    <tr>\n",
       "      <th>0</th>\n",
       "      <td>and so the robots spared humanity s jujqwfcv</td>\n",
       "      <td>{'neg': 0.0, 'neu': 1.0, 'pos': 0.0, 'compound...</td>\n",
       "      <td>0.0000</td>\n",
       "    </tr>\n",
       "    <tr>\n",
       "      <th>1</th>\n",
       "      <td>forin waltmossberg mims defn_ exactly tesla i...</td>\n",
       "      <td>{'neg': 0.0, 'neu': 1.0, 'pos': 0.0, 'compound...</td>\n",
       "      <td>0.0000</td>\n",
       "    </tr>\n",
       "    <tr>\n",
       "      <th>2</th>\n",
       "      <td>waltmossberg mims defn_ et tu walt</td>\n",
       "      <td>{'neg': 0.0, 'neu': 1.0, 'pos': 0.0, 'compound...</td>\n",
       "      <td>0.0000</td>\n",
       "    </tr>\n",
       "    <tr>\n",
       "      <th>3</th>\n",
       "      <td>stormy weather in shortville</td>\n",
       "      <td>{'neg': 0.0, 'neu': 1.0, 'pos': 0.0, 'compound...</td>\n",
       "      <td>0.0000</td>\n",
       "    </tr>\n",
       "    <tr>\n",
       "      <th>4</th>\n",
       "      <td>daveleebbc verge al is dying due to nat gas f...</td>\n",
       "      <td>{'neg': 0.264, 'neu': 0.736, 'pos': 0.0, 'comp...</td>\n",
       "      <td>-0.6486</td>\n",
       "    </tr>\n",
       "  </tbody>\n",
       "</table>\n",
       "</div>"
      ],
      "text/plain": [
       "                                             Reviwes  \\\n",
       "0      and so the robots spared humanity s jujqwfcv    \n",
       "1   forin waltmossberg mims defn_ exactly tesla i...   \n",
       "2                waltmossberg mims defn_ et tu walt    \n",
       "3                      stormy weather in shortville    \n",
       "4   daveleebbc verge al is dying due to nat gas f...   \n",
       "\n",
       "                                              scores  compound  \n",
       "0  {'neg': 0.0, 'neu': 1.0, 'pos': 0.0, 'compound...    0.0000  \n",
       "1  {'neg': 0.0, 'neu': 1.0, 'pos': 0.0, 'compound...    0.0000  \n",
       "2  {'neg': 0.0, 'neu': 1.0, 'pos': 0.0, 'compound...    0.0000  \n",
       "3  {'neg': 0.0, 'neu': 1.0, 'pos': 0.0, 'compound...    0.0000  \n",
       "4  {'neg': 0.264, 'neu': 0.736, 'pos': 0.0, 'comp...   -0.6486  "
      ]
     },
     "execution_count": 16,
     "metadata": {},
     "output_type": "execute_result"
    }
   ],
   "source": [
    "dataset['compound']  = dataset['scores'].apply(lambda score_dict: score_dict['compound'])\n",
    "\n",
    "dataset.head()"
   ]
  },
  {
   "cell_type": "code",
   "execution_count": 17,
   "metadata": {},
   "outputs": [
    {
     "data": {
      "text/html": [
       "<div>\n",
       "<style scoped>\n",
       "    .dataframe tbody tr th:only-of-type {\n",
       "        vertical-align: middle;\n",
       "    }\n",
       "\n",
       "    .dataframe tbody tr th {\n",
       "        vertical-align: top;\n",
       "    }\n",
       "\n",
       "    .dataframe thead th {\n",
       "        text-align: right;\n",
       "    }\n",
       "</style>\n",
       "<table border=\"1\" class=\"dataframe\">\n",
       "  <thead>\n",
       "    <tr style=\"text-align: right;\">\n",
       "      <th></th>\n",
       "      <th>Reviwes</th>\n",
       "      <th>scores</th>\n",
       "      <th>compound</th>\n",
       "      <th>comp_score</th>\n",
       "    </tr>\n",
       "  </thead>\n",
       "  <tbody>\n",
       "    <tr>\n",
       "      <th>0</th>\n",
       "      <td>and so the robots spared humanity s jujqwfcv</td>\n",
       "      <td>{'neg': 0.0, 'neu': 1.0, 'pos': 0.0, 'compound...</td>\n",
       "      <td>0.0000</td>\n",
       "      <td>pos</td>\n",
       "    </tr>\n",
       "    <tr>\n",
       "      <th>1</th>\n",
       "      <td>forin waltmossberg mims defn_ exactly tesla i...</td>\n",
       "      <td>{'neg': 0.0, 'neu': 1.0, 'pos': 0.0, 'compound...</td>\n",
       "      <td>0.0000</td>\n",
       "      <td>pos</td>\n",
       "    </tr>\n",
       "    <tr>\n",
       "      <th>2</th>\n",
       "      <td>waltmossberg mims defn_ et tu walt</td>\n",
       "      <td>{'neg': 0.0, 'neu': 1.0, 'pos': 0.0, 'compound...</td>\n",
       "      <td>0.0000</td>\n",
       "      <td>pos</td>\n",
       "    </tr>\n",
       "    <tr>\n",
       "      <th>3</th>\n",
       "      <td>stormy weather in shortville</td>\n",
       "      <td>{'neg': 0.0, 'neu': 1.0, 'pos': 0.0, 'compound...</td>\n",
       "      <td>0.0000</td>\n",
       "      <td>pos</td>\n",
       "    </tr>\n",
       "    <tr>\n",
       "      <th>4</th>\n",
       "      <td>daveleebbc verge al is dying due to nat gas f...</td>\n",
       "      <td>{'neg': 0.264, 'neu': 0.736, 'pos': 0.0, 'comp...</td>\n",
       "      <td>-0.6486</td>\n",
       "      <td>neg</td>\n",
       "    </tr>\n",
       "  </tbody>\n",
       "</table>\n",
       "</div>"
      ],
      "text/plain": [
       "                                             Reviwes  \\\n",
       "0      and so the robots spared humanity s jujqwfcv    \n",
       "1   forin waltmossberg mims defn_ exactly tesla i...   \n",
       "2                waltmossberg mims defn_ et tu walt    \n",
       "3                      stormy weather in shortville    \n",
       "4   daveleebbc verge al is dying due to nat gas f...   \n",
       "\n",
       "                                              scores  compound comp_score  \n",
       "0  {'neg': 0.0, 'neu': 1.0, 'pos': 0.0, 'compound...    0.0000        pos  \n",
       "1  {'neg': 0.0, 'neu': 1.0, 'pos': 0.0, 'compound...    0.0000        pos  \n",
       "2  {'neg': 0.0, 'neu': 1.0, 'pos': 0.0, 'compound...    0.0000        pos  \n",
       "3  {'neg': 0.0, 'neu': 1.0, 'pos': 0.0, 'compound...    0.0000        pos  \n",
       "4  {'neg': 0.264, 'neu': 0.736, 'pos': 0.0, 'comp...   -0.6486        neg  "
      ]
     },
     "execution_count": 17,
     "metadata": {},
     "output_type": "execute_result"
    }
   ],
   "source": [
    "dataset['comp_score'] = dataset['compound'].apply(lambda c: 'pos' if c >=0 else 'neg')\n",
    "\n",
    "dataset.head()"
   ]
  },
  {
   "cell_type": "code",
   "execution_count": 18,
   "metadata": {},
   "outputs": [
    {
     "name": "stdout",
     "output_type": "stream",
     "text": [
      "pos    2383\n",
      "neg     435\n",
      "Name: comp_score, dtype: int64\n",
      "(2818, 4)\n"
     ]
    }
   ],
   "source": [
    "print(dataset['comp_score'].value_counts())\n",
    "print(dataset.shape)"
   ]
  },
  {
   "cell_type": "markdown",
   "metadata": {},
   "source": [
    "# Loading our Pretrained Model"
   ]
  },
  {
   "cell_type": "code",
   "execution_count": 19,
   "metadata": {},
   "outputs": [],
   "source": [
    "#Vectorizer\n",
    "with open('tfidfmodel.pickle', 'rb') as f:\n",
    "    vectorizer = pickle.load(f)\n",
    "    \n",
    "#Model\n",
    "with open('classifier.pickle', 'rb') as f:\n",
    "    classifier = pickle.load(f)"
   ]
  },
  {
   "cell_type": "code",
   "execution_count": 20,
   "metadata": {},
   "outputs": [],
   "source": [
    "total_pos = 0\n",
    "total_neg = 0\n",
    "\n",
    "for tweet in reviews:\n",
    "    #Predicting The Reslts\n",
    "    sent = classifier.predict(vectorizer.transform([tweet]).toarray())\n",
    "    if sent[0] == 1:\n",
    "        total_pos += 1\n",
    "    else:\n",
    "        total_neg += 1"
   ]
  },
  {
   "cell_type": "code",
   "execution_count": 24,
   "metadata": {},
   "outputs": [
    {
     "name": "stdout",
     "output_type": "stream",
     "text": [
      "Positive Reviews: 1959\n",
      "Negative Reviews: 860\n",
      "\n",
      " Accuracy score is 69.49272791770132%\n"
     ]
    }
   ],
   "source": [
    "print(\"Positive Reviews: {}\".format(total_pos))\n",
    "print(\"Negative Reviews: {}\".format(total_neg))\n",
    "\n",
    "#Accuracy\n",
    "print(\"\\n Accuracy score is {}%\".format((total_pos / 2819)*100))"
   ]
  },
  {
   "cell_type": "markdown",
   "metadata": {},
   "source": [
    "# Plotting The Results"
   ]
  },
  {
   "cell_type": "markdown",
   "metadata": {},
   "source": [
    "<h2>1. VADER Model Results</h2>"
   ]
  },
  {
   "cell_type": "code",
   "execution_count": 33,
   "metadata": {},
   "outputs": [
    {
     "name": "stdout",
     "output_type": "stream",
     "text": [
      "2383\n",
      "435\n"
     ]
    }
   ],
   "source": [
    "pos = 0\n",
    "neg = 0\n",
    "for i in dataset['comp_score']:\n",
    "    if i == 'pos':\n",
    "        pos += 1\n",
    "    else:\n",
    "        neg += 1\n",
    "        \n",
    "print(pos)\n",
    "print(neg)"
   ]
  },
  {
   "cell_type": "code",
   "execution_count": 34,
   "metadata": {},
   "outputs": [
    {
     "data": {
      "text/plain": [
       "Text(0.5,1,'Number of Postive and Negative Tweets')"
      ]
     },
     "execution_count": 34,
     "metadata": {},
     "output_type": "execute_result"
    },
    {
     "data": {
      "image/png": "[encoded data removed]",
      "text/plain": [
       "<Figure size 432x288 with 1 Axes>"
      ]
     },
     "metadata": {},
     "output_type": "display_data"
    }
   ],
   "source": [
    "# Visualizing the results\n",
    "objects = ['Positive','Negative']\n",
    "y_pos = np.arange(len(objects))\n",
    "\n",
    "plt.bar(y_pos,[pos, neg],alpha=0.5)\n",
    "plt.xticks(y_pos,objects)\n",
    "plt.ylabel('Number')\n",
    "plt.title('Number of Postive and Negative Tweets')"
   ]
  },
  {
   "cell_type": "markdown",
   "metadata": {},
   "source": [
    "<h2>2. Pretrained Model Results</h2>"
   ]
  },
  {
   "cell_type": "code",
   "execution_count": 27,
   "metadata": {},
   "outputs": [],
   "source": [
    "import matplotlib.pyplot as plt"
   ]
  },
  {
   "cell_type": "code",
   "execution_count": 28,
   "metadata": {},
   "outputs": [
    {
     "data": {
      "text/plain": [
       "Text(0.5,1,'Number of Postive and Negative Tweets')"
      ]
     },
     "execution_count": 28,
     "metadata": {},
     "output_type": "execute_result"
    },
    {
     "data": {
      "image/png": "[encoded data removed]",
      "text/plain": [
       "<Figure size 432x288 with 1 Axes>"
      ]
     },
     "metadata": {},
     "output_type": "display_data"
    }
   ],
   "source": [
    "# Visualizing the results\n",
    "objects = ['Positive','Negative']\n",
    "y_pos = np.arange(len(objects))\n",
    "\n",
    "plt.bar(y_pos,[total_pos,total_neg],alpha=0.5)\n",
    "plt.xticks(y_pos,objects)\n",
    "plt.ylabel('Number')\n",
    "plt.title('Number of Postive and Negative Tweets')"
   ]
  },
  {
   "cell_type": "code",
   "execution_count": null,
   "metadata": {},
   "outputs": [],
   "source": []
  }
 ],
 "metadata": {
  "kernelspec": {
   "display_name": "Python 3",
   "language": "python",
   "name": "python3"
  },
  "language_info": {
   "codemirror_mode": {
    "name": "ipython",
    "version": 3
   },
   "file_extension": ".py",
   "mimetype": "text/x-python",
   "name": "python",
   "nbconvert_exporter": "python",
   "pygments_lexer": "ipython3",
   "version": "3.6.5"
  }
 },
 "nbformat": 4,
 "nbformat_minor": 2
}
